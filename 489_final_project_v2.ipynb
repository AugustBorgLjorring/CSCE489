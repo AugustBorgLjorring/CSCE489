{
  "cells": [
    {
      "cell_type": "markdown",
      "metadata": {
        "id": "sl1r5asxagMH"
      },
      "source": [
        "Link to unprocessed dataset: http://web.archive.org/web/20130924222653/http://iec.csic.es/dataset"
      ]
    },
    {
      "cell_type": "markdown",
      "metadata": {
        "id": "7JMaYME7agMI"
      },
      "source": [
        "# TextCNN for Web Application Attacks Detection"
      ]
    },
    {
      "cell_type": "markdown",
      "metadata": {
        "id": "gtAiFeRnagMI"
      },
      "source": [
        "# Raw data preprocessing, LOG file to CSV"
      ]
    },
    {
      "cell_type": "markdown",
      "metadata": {
        "id": "tC3e_V1XagMJ"
      },
      "source": [
        "Here we needed to preprocess the raw data from the LOG file to CSV format"
      ]
    },
    {
      "cell_type": "code",
      "execution_count": null,
      "metadata": {
        "id": "1avT63nIagMJ",
        "outputId": "2bab644e-762b-4dd9-85d6-c85af4bd0c3e"
      },
      "outputs": [
        {
          "name": "stdout",
          "output_type": "stream",
          "text": [
            "Processed 36000 requests from normalTrafficTest.txt\n",
            "Processed 36000 requests from normalTrafficTraining.txt\n",
            "Processed 25065 requests from anomalousTrafficTest.txt\n",
            "CSV file created successfully.\n"
          ]
        }
      ],
      "source": [
        "import pandas as pd\n",
        "from urllib.parse import unquote\n",
        "\n",
        "# Define the files and their corresponding classifications\n",
        "files_with_classification = [\n",
        "    ('normalTrafficTest.txt', 0),\n",
        "    ('normalTrafficTraining.txt', 0),\n",
        "    ('anomalousTrafficTest.txt', 1)\n",
        "]\n",
        "\n",
        "# Initialize an empty list to store all processed requests\n",
        "all_requests = []\n",
        "\n",
        "# Function to parse HTTP log into individual requests\n",
        "def parse_http_log(log):\n",
        "    lines = log.strip().splitlines()\n",
        "    requests = []\n",
        "    current_request = []\n",
        "    for line in lines:\n",
        "        # Check for the start of a new request\n",
        "        if line.startswith(('GET ', 'POST ', 'PUT ', 'DELETE ', 'HEAD ', 'OPTIONS ', 'TRACE ', 'CONNECT ')):\n",
        "            if current_request:\n",
        "                requests.append('\\n'.join(current_request))\n",
        "                current_request = []\n",
        "        current_request.append(line)\n",
        "    if current_request:\n",
        "        requests.append('\\n'.join(current_request))\n",
        "    return requests\n",
        "\n",
        "# Function to process each request\n",
        "def process_request(request, classification):\n",
        "    lines = request.strip().split('\\n')\n",
        "\n",
        "    # Ensure the first line has at least three parts\n",
        "    if len(lines) == 0 or len(lines[0].split()) < 3:\n",
        "        # Skip invalid request lines\n",
        "        return None\n",
        "\n",
        "    method, url, _ = lines[0].split(\" \", 2)\n",
        "    headers = {}\n",
        "    body_lines = []\n",
        "    is_body = False\n",
        "    for line in lines[1:]:\n",
        "        if line.strip() == '':\n",
        "            is_body = True\n",
        "            continue\n",
        "        if is_body:\n",
        "            body_lines.append(line)\n",
        "        elif \": \" in line:\n",
        "            key, value = line.split(\": \", 1)\n",
        "            headers[key.strip().lower()] = value.strip()\n",
        "        else:\n",
        "            # Ignore any lines that are neither headers nor body\n",
        "            pass\n",
        "\n",
        "    # Combine body lines into a single string\n",
        "    body = '\\n'.join(body_lines).strip()\n",
        "\n",
        "    # Build the request dictionary\n",
        "    request_dict = {\n",
        "        \"classification\": classification,\n",
        "        \"Method\": method,\n",
        "        \"User-Agent\": headers.get(\"user-agent\", \"\"),\n",
        "        \"Pragma\": headers.get(\"pragma\", \"\"),\n",
        "        \"Cache-Control\": headers.get(\"cache-control\", \"\"),\n",
        "        \"Accept\": headers.get(\"accept\", \"\"),\n",
        "        \"Accept-encoding\": headers.get(\"accept-encoding\", \"\"),\n",
        "        \"Accept-charset\": headers.get(\"accept-charset\", \"\"),\n",
        "        \"language\": headers.get(\"accept-language\", \"\"),\n",
        "        \"host\": headers.get(\"host\", \"\"),\n",
        "        \"cookie\": headers.get(\"cookie\", \"\"),\n",
        "        \"content-type\": headers.get(\"content-type\", \"\"),\n",
        "        \"connection\": headers.get(\"connection\", \"\"),\n",
        "        \"length\": headers.get(\"content-length\", \"0\"),\n",
        "        \"content\": body,\n",
        "        \"URL\": url,\n",
        "    }\n",
        "\n",
        "    return request_dict\n",
        "\n",
        "# Process each file\n",
        "for filename, classification in files_with_classification:\n",
        "    count_processed = 0\n",
        "    with open(filename, 'r', encoding='utf-8', errors='ignore') as file:\n",
        "        http_log = file.read()\n",
        "        requests = parse_http_log(http_log)\n",
        "        for req in requests:\n",
        "            processed_req = process_request(req, classification)\n",
        "            if processed_req:\n",
        "                all_requests.append(processed_req)\n",
        "                count_processed += 1\n",
        "        print(f\"Processed {count_processed} requests from {filename}\")\n",
        "\n",
        "# Create a pandas DataFrame\n",
        "df = pd.DataFrame(all_requests, columns=[\n",
        "    \"classification\", \"Method\", \"User-Agent\", \"Pragma\", \"Cache-Control\",\n",
        "    \"Accept\", \"Accept-encoding\", \"Accept-charset\", \"language\", \"host\",\n",
        "    \"cookie\", \"content-type\", \"connection\", \"length\", \"content\", \"URL\"\n",
        "])\n",
        "\n",
        "# covert the dataframe to a csv file\n",
        "df.to_csv('http_requests.csv', index=False)\n",
        "print(\"CSV file created successfully.\")"
      ]
    },
    {
      "cell_type": "markdown",
      "metadata": {
        "id": "FUiy2HuUagMK"
      },
      "source": [
        "## Import data from CSV preprocessed CSV"
      ]
    },
    {
      "cell_type": "markdown",
      "metadata": {
        "id": "DVLyTWMxagMK"
      },
      "source": [
        "We can now import the preprocessed CSV file"
      ]
    },
    {
      "cell_type": "code",
      "execution_count": null,
      "metadata": {
        "id": "0M2vUg1EagMK"
      },
      "outputs": [],
      "source": [
        "import pandas as pd\n",
        "import urllib.parse\n",
        "\n",
        "file_path = \"http_requests.csv\"\n",
        "data = pd.read_csv(file_path)"
      ]
    },
    {
      "cell_type": "markdown",
      "metadata": {
        "id": "m-nKOToCagML"
      },
      "source": [
        "# Exploratory Data Analysis (EDA)"
      ]
    },
    {
      "cell_type": "markdown",
      "metadata": {
        "id": "7aIjfytragML"
      },
      "source": [
        "## Label count"
      ]
    },
    {
      "cell_type": "markdown",
      "metadata": {
        "id": "JT74SXb9agML"
      },
      "source": [
        "We first start of by checking the distribution of the labels in the dataset"
      ]
    },
    {
      "cell_type": "code",
      "execution_count": null,
      "metadata": {
        "id": "NULqNwYDagML",
        "outputId": "6e99d0de-46a7-4e5b-9b09-96a6874a56e4"
      },
      "outputs": [
        {
          "name": "stdout",
          "output_type": "stream",
          "text": [
            "classification\n",
            "0    72000\n",
            "1    25065\n",
            "Name: count, dtype: int64\n"
          ]
        }
      ],
      "source": [
        "# How many datapoints for each classification label\n",
        "print(data['classification'].value_counts())"
      ]
    },
    {
      "cell_type": "markdown",
      "metadata": {
        "id": "IleqkOGeagML"
      },
      "source": [
        "It looks like there is a bit of class imbalance in the dataset, but it is not too severe"
      ]
    },
    {
      "cell_type": "markdown",
      "metadata": {
        "id": "jTFD2NDVagMM"
      },
      "source": [
        "## Check for missing values"
      ]
    },
    {
      "cell_type": "markdown",
      "metadata": {
        "id": "2hFPZjj1agMM"
      },
      "source": [
        "We check for missing values in the dataset"
      ]
    },
    {
      "cell_type": "code",
      "execution_count": null,
      "metadata": {
        "id": "C4pct-SUagMM",
        "outputId": "3d033fd8-7273-495b-82af-e67920b378ca"
      },
      "outputs": [
        {
          "name": "stdout",
          "output_type": "stream",
          "text": [
            "classification         0\n",
            "Method                 0\n",
            "User-Agent             0\n",
            "Pragma                 0\n",
            "Cache-Control          0\n",
            "Accept               397\n",
            "Accept-encoding        0\n",
            "Accept-charset         0\n",
            "language               0\n",
            "host                   0\n",
            "cookie                 0\n",
            "content-type       71088\n",
            "connection             0\n",
            "length                 0\n",
            "content            71088\n",
            "URL                    0\n",
            "dtype: int64\n"
          ]
        }
      ],
      "source": [
        "# Check for missing values in the entire dataset\n",
        "print(data.isnull().sum())"
      ]
    },
    {
      "cell_type": "markdown",
      "metadata": {
        "id": "rmVPNjJkagMM"
      },
      "source": [
        "As it is expected to have missing values in the entries, Accept, content-type and content length columns, we will not drop them"
      ]
    },
    {
      "cell_type": "markdown",
      "metadata": {
        "id": "G5rkBh3ZagMM"
      },
      "source": [
        "## A typical entry"
      ]
    },
    {
      "cell_type": "markdown",
      "metadata": {
        "id": "9VmSh-HsagMM"
      },
      "source": [
        "We take a look at a typical entry in the dataset"
      ]
    },
    {
      "cell_type": "code",
      "execution_count": null,
      "metadata": {
        "id": "-KebhP5MagMM",
        "outputId": "386de381-70f3-4a14-cb07-60c131ecc17e"
      },
      "outputs": [
        {
          "data": {
            "text/plain": [
              "classification                                                                                                       0\n",
              "Method                                                                                                            POST\n",
              "User-Agent                                     Mozilla/5.0 (compatible; Konqueror/3.5; Linux) KHTML/3.5.8 (like Gecko)\n",
              "Pragma                                                                                                        no-cache\n",
              "Cache-Control                                                                                                 no-cache\n",
              "Accept             text/xml,application/xml,application/xhtml+xml,text/html;q=0.9,text/plain;q=0.8,image/png,*/*;q=0.5\n",
              "Accept-encoding                                                                       x-gzip, x-deflate, gzip, deflate\n",
              "Accept-charset                                                                             utf-8, utf-8;q=0.5, *;q=0.5\n",
              "language                                                                                                            en\n",
              "host                                                                                                    localhost:8080\n",
              "cookie                                                                     JSESSIONID=788887A0F479749C4CEEA1E268B4A501\n",
              "content-type                                                                         application/x-www-form-urlencoded\n",
              "connection                                                                                                       close\n",
              "length                                                                                                              74\n",
              "content                                     id=1&nombre=Jam%F3n+Ib%E9rico&precio=39&cantidad=41&B1=A%F1adir+al+carrito\n",
              "URL                                                                   http://localhost:8080/tienda1/publico/anadir.jsp\n",
              "Name: 2, dtype: object"
            ]
          },
          "execution_count": 4,
          "metadata": {},
          "output_type": "execute_result"
        }
      ],
      "source": [
        "pd.set_option('display.max_colwidth', None)\n",
        "data.iloc[2]"
      ]
    },
    {
      "cell_type": "markdown",
      "metadata": {
        "id": "iaZ_C6LjagMM"
      },
      "source": [
        "Here we see a benign entry of a post request with content that also has some URL encoded data"
      ]
    },
    {
      "cell_type": "markdown",
      "metadata": {
        "id": "lNQrH0CPagMM"
      },
      "source": [
        "## Showcasing decoded malicious requests"
      ]
    },
    {
      "cell_type": "markdown",
      "metadata": {
        "id": "XOOq29o8agMM"
      },
      "source": [
        "We want to see what a decoded malicious request looks like"
      ]
    },
    {
      "cell_type": "code",
      "execution_count": null,
      "metadata": {
        "id": "XI7lw8_0agMM",
        "outputId": "a14b1d9d-b973-4311-f287-1781dc5bb20f"
      },
      "outputs": [
        {
          "data": {
            "text/plain": [
              "'http://localhost:8080/tienda1/publico/entrar.jsp?errorMsg=Credenciales+incorrectasbob%2540%253CSCRipt%253Ealert%2528Paros%2529%253C%252FscrIPT%253E.parosproxy.org'"
            ]
          },
          "execution_count": 5,
          "metadata": {},
          "output_type": "execute_result"
        }
      ],
      "source": [
        "from urllib.parse import unquote\n",
        "EDA_data = data.copy()\n",
        "EDA_data['URL_Content'] = EDA_data['URL'] + EDA_data['content'].fillna('')\n",
        "\n",
        "# show me a url that contain \"precio=2293&b1=confirmar\"\n",
        "mal_url = EDA_data[EDA_data['URL_Content'].apply(lambda x: \"http://localhost:8080/tienda1/publico/entrar.jsp?errorMsg=Credenciales+incorrectasbob\" in x)].iloc[0]['URL_Content']\n",
        "mal_url"
      ]
    },
    {
      "cell_type": "markdown",
      "metadata": {
        "id": "ySEk2p4kagMN"
      },
      "source": [
        "First we see an unreadable malicious request"
      ]
    },
    {
      "cell_type": "code",
      "execution_count": null,
      "metadata": {
        "id": "pJxL_E7VagMN",
        "outputId": "4a2a9e95-aabc-4bb7-c586-20353da6c156"
      },
      "outputs": [
        {
          "data": {
            "text/plain": [
              "('http://localhost:8080/tienda1/publico/entrar.jsp?errorMsg=Credenciales+incorrectasbob%40%3CSCRipt%3Ealert%28Paros%29%3C%2FscrIPT%3E.parosproxy.org',\n",
              " 'http://localhost:8080/tienda1/publico/entrar.jsp?errorMsg=Credenciales+incorrectasbob@<SCRipt>alert(Paros)</scrIPT>.parosproxy.org',\n",
              " 'http://localhost:8080/tienda1/publico/entrar.jsp?errormsg=credenciales+incorrectasbob@<script>alert(paros)</script>.parosproxy.org')"
            ]
          },
          "execution_count": 6,
          "metadata": {},
          "output_type": "execute_result"
        }
      ],
      "source": [
        "# decode mal_url two times and then lowercase it\n",
        "unquote(mal_url), unquote(unquote(mal_url)), unquote(unquote(mal_url)).lower()"
      ]
    },
    {
      "cell_type": "markdown",
      "metadata": {
        "id": "jEE7ExgZagMN"
      },
      "source": [
        "We see that when we decode the malicious request, it is still unreadable. But after a second decoding and lowering the case, we can see that the request is a SQL injection attack"
      ]
    },
    {
      "cell_type": "markdown",
      "metadata": {
        "id": "wIm1jVrDagMN"
      },
      "source": [
        "# Data Preprocessing"
      ]
    },
    {
      "cell_type": "markdown",
      "metadata": {
        "id": "r-x9WG8GagMN"
      },
      "source": [
        "## Decode 'content' and 'URL'"
      ]
    },
    {
      "cell_type": "markdown",
      "metadata": {
        "id": "u9qNLVuUagMN"
      },
      "source": [
        "We decode the 'content' and 'URL' columns. We also keep a count of how many times each url was decoded in a column called 'decoding_counts'. This is used as a statistical feature later on in the model."
      ]
    },
    {
      "cell_type": "code",
      "execution_count": null,
      "metadata": {
        "id": "IsrHvomDagMN"
      },
      "outputs": [],
      "source": [
        "# Define a function to decode text with multiple layers of encoding\n",
        "def decode_text(text):\n",
        "    if pd.isnull(text):\n",
        "        return text, 0  # If the text is NaN, return as is\n",
        "    decoded_text = text\n",
        "    decode_count = 0\n",
        "    while True:\n",
        "        try:\n",
        "            # Decode the text using latin1 encoding\n",
        "            temp_text = urllib.parse.unquote(decoded_text, encoding='latin1')\n",
        "            if temp_text == decoded_text:  # Break if no further decoding is possible\n",
        "                break\n",
        "            decoded_text = temp_text\n",
        "            decode_count += 1\n",
        "        except:\n",
        "            break\n",
        "    return decoded_text, decode_count\n",
        "\n",
        "# Apply decoding to the 'URL' and 'content' columns\n",
        "data['URL'], data['URL_decode_count'] = zip(*data['URL'].apply(decode_text))\n",
        "data['URL'] = data['URL'].str.lower() #lowercase\n",
        "data['content'] = data['content'].str.lower() #lowercase\n",
        "data['content'], data['CONTENT_decode_count'] = zip(*data['content'].apply(decode_text))\n",
        "# add the two count into one column called 'decode_count', and drop the two columns\n",
        "data['decoding_counts'] = data['URL_decode_count'] + data['CONTENT_decode_count']\n",
        "data.drop(columns=['URL_decode_count', 'CONTENT_decode_count'], inplace=True)"
      ]
    },
    {
      "cell_type": "markdown",
      "metadata": {
        "id": "Sr3P16ueagMN"
      },
      "source": [
        "We can see that we now have decoded the 'content' and 'URL' columns"
      ]
    },
    {
      "cell_type": "code",
      "execution_count": null,
      "metadata": {
        "id": "h2S5-zPdagMN",
        "outputId": "d646b7b9-d3ca-4ac6-d124-e5d14caec3b5"
      },
      "outputs": [
        {
          "data": {
            "text/html": [
              "<div>\n",
              "<style scoped>\n",
              "    .dataframe tbody tr th:only-of-type {\n",
              "        vertical-align: middle;\n",
              "    }\n",
              "\n",
              "    .dataframe tbody tr th {\n",
              "        vertical-align: top;\n",
              "    }\n",
              "\n",
              "    .dataframe thead th {\n",
              "        text-align: right;\n",
              "    }\n",
              "</style>\n",
              "<table border=\"1\" class=\"dataframe\">\n",
              "  <thead>\n",
              "    <tr style=\"text-align: right;\">\n",
              "      <th></th>\n",
              "      <th>classification</th>\n",
              "      <th>Method</th>\n",
              "      <th>User-Agent</th>\n",
              "      <th>Pragma</th>\n",
              "      <th>Cache-Control</th>\n",
              "      <th>Accept</th>\n",
              "      <th>Accept-encoding</th>\n",
              "      <th>Accept-charset</th>\n",
              "      <th>language</th>\n",
              "      <th>host</th>\n",
              "      <th>cookie</th>\n",
              "      <th>content-type</th>\n",
              "      <th>connection</th>\n",
              "      <th>length</th>\n",
              "      <th>content</th>\n",
              "      <th>URL</th>\n",
              "      <th>decoding_counts</th>\n",
              "    </tr>\n",
              "  </thead>\n",
              "  <tbody>\n",
              "    <tr>\n",
              "      <th>0</th>\n",
              "      <td>0</td>\n",
              "      <td>GET</td>\n",
              "      <td>Mozilla/5.0 (compatible; Konqueror/3.5; Linux) KHTML/3.5.8 (like Gecko)</td>\n",
              "      <td>no-cache</td>\n",
              "      <td>no-cache</td>\n",
              "      <td>text/xml,application/xml,application/xhtml+xml,text/html;q=0.9,text/plain;q=0.8,image/png,*/*;q=0.5</td>\n",
              "      <td>x-gzip, x-deflate, gzip, deflate</td>\n",
              "      <td>utf-8, utf-8;q=0.5, *;q=0.5</td>\n",
              "      <td>en</td>\n",
              "      <td>localhost:8080</td>\n",
              "      <td>JSESSIONID=EA414B3E327DED6875848530C864BD8F</td>\n",
              "      <td>NaN</td>\n",
              "      <td>close</td>\n",
              "      <td>0</td>\n",
              "      <td>NaN</td>\n",
              "      <td>http://localhost:8080/tienda1/index.jsp</td>\n",
              "      <td>0</td>\n",
              "    </tr>\n",
              "    <tr>\n",
              "      <th>1</th>\n",
              "      <td>0</td>\n",
              "      <td>GET</td>\n",
              "      <td>Mozilla/5.0 (compatible; Konqueror/3.5; Linux) KHTML/3.5.8 (like Gecko)</td>\n",
              "      <td>no-cache</td>\n",
              "      <td>no-cache</td>\n",
              "      <td>text/xml,application/xml,application/xhtml+xml,text/html;q=0.9,text/plain;q=0.8,image/png,*/*;q=0.5</td>\n",
              "      <td>x-gzip, x-deflate, gzip, deflate</td>\n",
              "      <td>utf-8, utf-8;q=0.5, *;q=0.5</td>\n",
              "      <td>en</td>\n",
              "      <td>localhost:8080</td>\n",
              "      <td>JSESSIONID=54E25FF4B7F0E4E855B112F882E9EEA5</td>\n",
              "      <td>NaN</td>\n",
              "      <td>close</td>\n",
              "      <td>0</td>\n",
              "      <td>NaN</td>\n",
              "      <td>http://localhost:8080/tienda1/publico/anadir.jsp?id=1&amp;nombre=jamón+ibérico&amp;precio=39&amp;cantidad=41&amp;b1=añadir+al+carrito</td>\n",
              "      <td>1</td>\n",
              "    </tr>\n",
              "    <tr>\n",
              "      <th>2</th>\n",
              "      <td>0</td>\n",
              "      <td>POST</td>\n",
              "      <td>Mozilla/5.0 (compatible; Konqueror/3.5; Linux) KHTML/3.5.8 (like Gecko)</td>\n",
              "      <td>no-cache</td>\n",
              "      <td>no-cache</td>\n",
              "      <td>text/xml,application/xml,application/xhtml+xml,text/html;q=0.9,text/plain;q=0.8,image/png,*/*;q=0.5</td>\n",
              "      <td>x-gzip, x-deflate, gzip, deflate</td>\n",
              "      <td>utf-8, utf-8;q=0.5, *;q=0.5</td>\n",
              "      <td>en</td>\n",
              "      <td>localhost:8080</td>\n",
              "      <td>JSESSIONID=788887A0F479749C4CEEA1E268B4A501</td>\n",
              "      <td>application/x-www-form-urlencoded</td>\n",
              "      <td>close</td>\n",
              "      <td>74</td>\n",
              "      <td>id=1&amp;nombre=jamón+ibérico&amp;precio=39&amp;cantidad=41&amp;b1=añadir+al+carrito</td>\n",
              "      <td>http://localhost:8080/tienda1/publico/anadir.jsp</td>\n",
              "      <td>1</td>\n",
              "    </tr>\n",
              "  </tbody>\n",
              "</table>\n",
              "</div>"
            ],
            "text/plain": [
              "   classification Method  \\\n",
              "0               0    GET   \n",
              "1               0    GET   \n",
              "2               0   POST   \n",
              "\n",
              "                                                                User-Agent  \\\n",
              "0  Mozilla/5.0 (compatible; Konqueror/3.5; Linux) KHTML/3.5.8 (like Gecko)   \n",
              "1  Mozilla/5.0 (compatible; Konqueror/3.5; Linux) KHTML/3.5.8 (like Gecko)   \n",
              "2  Mozilla/5.0 (compatible; Konqueror/3.5; Linux) KHTML/3.5.8 (like Gecko)   \n",
              "\n",
              "     Pragma Cache-Control  \\\n",
              "0  no-cache      no-cache   \n",
              "1  no-cache      no-cache   \n",
              "2  no-cache      no-cache   \n",
              "\n",
              "                                                                                                Accept  \\\n",
              "0  text/xml,application/xml,application/xhtml+xml,text/html;q=0.9,text/plain;q=0.8,image/png,*/*;q=0.5   \n",
              "1  text/xml,application/xml,application/xhtml+xml,text/html;q=0.9,text/plain;q=0.8,image/png,*/*;q=0.5   \n",
              "2  text/xml,application/xml,application/xhtml+xml,text/html;q=0.9,text/plain;q=0.8,image/png,*/*;q=0.5   \n",
              "\n",
              "                    Accept-encoding               Accept-charset language  \\\n",
              "0  x-gzip, x-deflate, gzip, deflate  utf-8, utf-8;q=0.5, *;q=0.5       en   \n",
              "1  x-gzip, x-deflate, gzip, deflate  utf-8, utf-8;q=0.5, *;q=0.5       en   \n",
              "2  x-gzip, x-deflate, gzip, deflate  utf-8, utf-8;q=0.5, *;q=0.5       en   \n",
              "\n",
              "             host                                       cookie  \\\n",
              "0  localhost:8080  JSESSIONID=EA414B3E327DED6875848530C864BD8F   \n",
              "1  localhost:8080  JSESSIONID=54E25FF4B7F0E4E855B112F882E9EEA5   \n",
              "2  localhost:8080  JSESSIONID=788887A0F479749C4CEEA1E268B4A501   \n",
              "\n",
              "                        content-type connection  length  \\\n",
              "0                                NaN      close       0   \n",
              "1                                NaN      close       0   \n",
              "2  application/x-www-form-urlencoded      close      74   \n",
              "\n",
              "                                                                content  \\\n",
              "0                                                                   NaN   \n",
              "1                                                                   NaN   \n",
              "2  id=1&nombre=jamón+ibérico&precio=39&cantidad=41&b1=añadir+al+carrito   \n",
              "\n",
              "                                                                                                                     URL  \\\n",
              "0                                                                                http://localhost:8080/tienda1/index.jsp   \n",
              "1  http://localhost:8080/tienda1/publico/anadir.jsp?id=1&nombre=jamón+ibérico&precio=39&cantidad=41&b1=añadir+al+carrito   \n",
              "2                                                                       http://localhost:8080/tienda1/publico/anadir.jsp   \n",
              "\n",
              "   decoding_counts  \n",
              "0                0  \n",
              "1                1  \n",
              "2                1  "
            ]
          },
          "execution_count": 8,
          "metadata": {},
          "output_type": "execute_result"
        }
      ],
      "source": [
        "data.head(3)"
      ]
    },
    {
      "cell_type": "markdown",
      "metadata": {
        "id": "Cw2st7boagMN"
      },
      "source": [
        "### Make sure all urls are decoded"
      ]
    },
    {
      "cell_type": "markdown",
      "metadata": {
        "id": "dnDTSapOagMO"
      },
      "source": [
        "We make sure that all URLs are decoded"
      ]
    },
    {
      "cell_type": "code",
      "execution_count": null,
      "metadata": {
        "id": "0uxegPSaagMO",
        "outputId": "d7f1e19f-179c-46ea-98c2-5e92a61ee9aa"
      },
      "outputs": [
        {
          "name": "stdout",
          "output_type": "stream",
          "text": [
            "                                                                                                                                                                                       URL\n",
            "72000  http://localhost:8080/tienda1/publico/anadir.jsp?id=2&nombre=jamón+ibérico&precio=85&cantidad=';+drop+table+usuarios;+select+*+from+datos+where+nombre+like+'%&b1=añadir+al+carrito\n",
            "72167        http://localhost:8080/tienda1/publico/autenticar.jsp?modo=entrar';+drop+table+usuarios;+select+*+from+datos+where+nombre+like+'%&login=jeanes&pwd=dó712&remember=on&b1=entrar\n"
          ]
        }
      ],
      "source": [
        "# Check for % in url\n",
        "pd.set_option('display.max_colwidth', None)\n",
        "print(data[data['URL'].str.contains('%')][['URL']].head(2))"
      ]
    },
    {
      "cell_type": "markdown",
      "metadata": {
        "id": "9Xx_S2GHagMO"
      },
      "source": [
        "We see that some URLs are not decoded, but these specific cases are errors and therefore not decodable"
      ]
    },
    {
      "cell_type": "markdown",
      "metadata": {
        "id": "Xh_DKopsagMO"
      },
      "source": [
        "## Tokenization of 'URL' and 'content'"
      ]
    },
    {
      "cell_type": "markdown",
      "metadata": {
        "id": "bf8zR2FEagMO"
      },
      "source": [
        "We can now tokenize the 'URL' and 'content' columns and append them together for POST requests"
      ]
    },
    {
      "cell_type": "code",
      "execution_count": null,
      "metadata": {
        "id": "JdBbW9GIagMQ",
        "outputId": "29b03d65-c85f-433c-db89-05e061686664"
      },
      "outputs": [
        {
          "data": {
            "text/html": [
              "<div>\n",
              "<style scoped>\n",
              "    .dataframe tbody tr th:only-of-type {\n",
              "        vertical-align: middle;\n",
              "    }\n",
              "\n",
              "    .dataframe tbody tr th {\n",
              "        vertical-align: top;\n",
              "    }\n",
              "\n",
              "    .dataframe thead th {\n",
              "        text-align: right;\n",
              "    }\n",
              "</style>\n",
              "<table border=\"1\" class=\"dataframe\">\n",
              "  <thead>\n",
              "    <tr style=\"text-align: right;\">\n",
              "      <th></th>\n",
              "      <th>URL</th>\n",
              "      <th>content</th>\n",
              "      <th>classification</th>\n",
              "    </tr>\n",
              "  </thead>\n",
              "  <tbody>\n",
              "    <tr>\n",
              "      <th>0</th>\n",
              "      <td>[http, :, /, /, localhost, :, 8080, /, tienda1, /, index, ., jsp]</td>\n",
              "      <td>[]</td>\n",
              "      <td>0</td>\n",
              "    </tr>\n",
              "    <tr>\n",
              "      <th>1</th>\n",
              "      <td>[http, :, /, /, localhost, :, 8080, /, tienda1, /, publico, /, anadir, ., jsp, ?, id, =, 1, &amp;, nombre, =, jam, ó, n, +, ib, é, rico, &amp;, precio, =, 39, &amp;, cantidad, =, 41, &amp;, b1, =, a, ñ, adir, +, al, +, carrito]</td>\n",
              "      <td>[]</td>\n",
              "      <td>0</td>\n",
              "    </tr>\n",
              "    <tr>\n",
              "      <th>2</th>\n",
              "      <td>[http, :, /, /, localhost, :, 8080, /, tienda1, /, publico, /, anadir, ., jsp, id, =, 1, &amp;, nombre, =, jam, ó, n, +, ib, é, rico, &amp;, precio, =, 39, &amp;, cantidad, =, 41, &amp;, b1, =, a, ñ, adir, +, al, +, carrito]</td>\n",
              "      <td>[id, =, 1, &amp;, nombre, =, jam, ó, n, +, ib, é, rico, &amp;, precio, =, 39, &amp;, cantidad, =, 41, &amp;, b1, =, a, ñ, adir, +, al, +, carrito]</td>\n",
              "      <td>0</td>\n",
              "    </tr>\n",
              "    <tr>\n",
              "      <th>3</th>\n",
              "      <td>[http, :, /, /, localhost, :, 8080, /, tienda1, /, publico, /, autenticar, ., jsp, ?, modo, =, entrar, &amp;, login, =, caria, &amp;, pwd, =, egipciaca, &amp;, remember, =, off, &amp;, b1, =, entrar]</td>\n",
              "      <td>[]</td>\n",
              "      <td>0</td>\n",
              "    </tr>\n",
              "    <tr>\n",
              "      <th>4</th>\n",
              "      <td>[http, :, /, /, localhost, :, 8080, /, tienda1, /, publico, /, autenticar, ., jsp, modo, =, entrar, &amp;, login, =, caria, &amp;, pwd, =, egipciaca, &amp;, remember, =, off, &amp;, b1, =, entrar]</td>\n",
              "      <td>[modo, =, entrar, &amp;, login, =, caria, &amp;, pwd, =, egipciaca, &amp;, remember, =, off, &amp;, b1, =, entrar]</td>\n",
              "      <td>0</td>\n",
              "    </tr>\n",
              "  </tbody>\n",
              "</table>\n",
              "</div>"
            ],
            "text/plain": [
              "                                                                                                                                                                                                                   URL  \\\n",
              "0                                                                                                                                                    [http, :, /, /, localhost, :, 8080, /, tienda1, /, index, ., jsp]   \n",
              "1  [http, :, /, /, localhost, :, 8080, /, tienda1, /, publico, /, anadir, ., jsp, ?, id, =, 1, &, nombre, =, jam, ó, n, +, ib, é, rico, &, precio, =, 39, &, cantidad, =, 41, &, b1, =, a, ñ, adir, +, al, +, carrito]   \n",
              "2     [http, :, /, /, localhost, :, 8080, /, tienda1, /, publico, /, anadir, ., jsp, id, =, 1, &, nombre, =, jam, ó, n, +, ib, é, rico, &, precio, =, 39, &, cantidad, =, 41, &, b1, =, a, ñ, adir, +, al, +, carrito]   \n",
              "3                              [http, :, /, /, localhost, :, 8080, /, tienda1, /, publico, /, autenticar, ., jsp, ?, modo, =, entrar, &, login, =, caria, &, pwd, =, egipciaca, &, remember, =, off, &, b1, =, entrar]   \n",
              "4                                 [http, :, /, /, localhost, :, 8080, /, tienda1, /, publico, /, autenticar, ., jsp, modo, =, entrar, &, login, =, caria, &, pwd, =, egipciaca, &, remember, =, off, &, b1, =, entrar]   \n",
              "\n",
              "                                                                                                                              content  \\\n",
              "0                                                                                                                                  []   \n",
              "1                                                                                                                                  []   \n",
              "2  [id, =, 1, &, nombre, =, jam, ó, n, +, ib, é, rico, &, precio, =, 39, &, cantidad, =, 41, &, b1, =, a, ñ, adir, +, al, +, carrito]   \n",
              "3                                                                                                                                  []   \n",
              "4                                  [modo, =, entrar, &, login, =, caria, &, pwd, =, egipciaca, &, remember, =, off, &, b1, =, entrar]   \n",
              "\n",
              "   classification  \n",
              "0               0  \n",
              "1               0  \n",
              "2               0  \n",
              "3               0  \n",
              "4               0  "
            ]
          },
          "execution_count": 10,
          "metadata": {},
          "output_type": "execute_result"
        }
      ],
      "source": [
        "import re\n",
        "\n",
        "def split_into_list(input_str):\n",
        "    if pd.isna(input_str):  # Handle NaN values\n",
        "        return []\n",
        "    # Split based on non-alphanumeric characters, keeping those characters as separate items\n",
        "    return re.findall(r'[A-Za-z0-9]+|[^A-Za-z0-9]', input_str)\n",
        "\n",
        "data['URL'] = data['URL'].apply(split_into_list)\n",
        "data['content'] = data['content'].apply(split_into_list)\n",
        "\n",
        "pd.set_option('display.max_colwidth', None)\n",
        "\n",
        "# append 'content' to 'URL' if POST method\n",
        "data['URL'] = data.apply(lambda row: row['URL'] + row['content'] if row['Method'] == 'POST' else row['URL'], axis=1)\n",
        "data[['URL', 'content', 'classification']].head(5)  # Replace 'x' and 'y' with your column names"
      ]
    },
    {
      "cell_type": "markdown",
      "metadata": {
        "id": "cMxr-1--agMR"
      },
      "source": [
        "## Remove duplicates"
      ]
    },
    {
      "cell_type": "markdown",
      "metadata": {
        "id": "ZW0XUjcFagMR"
      },
      "source": [
        "We can then remove duplicates from the dataset, this is done by removing entries that have the same 'URL', which now for POST requests is the 'URL' and 'content' columns appended together"
      ]
    },
    {
      "cell_type": "code",
      "execution_count": null,
      "metadata": {
        "id": "3EC27vrragMR",
        "outputId": "ef2bde9e-c719-4a46-f262-85e11df1c36d"
      },
      "outputs": [
        {
          "name": "stdout",
          "output_type": "stream",
          "text": [
            "Number of rows before : 97065\n",
            "Number of rows after : 33839\n"
          ]
        }
      ],
      "source": [
        "num_rows_before = data.shape[0]\n",
        "print(\"Number of rows before :\", num_rows_before)\n",
        "data = data.drop_duplicates(subset=['URL']).reset_index(drop=True)\n",
        "num_rows_after = data.shape[0]\n",
        "print(\"Number of rows after :\", num_rows_after)"
      ]
    },
    {
      "cell_type": "markdown",
      "metadata": {
        "id": "-ZMtAGMRagMR"
      },
      "source": [
        "# Split into train, validation and test sets"
      ]
    },
    {
      "cell_type": "markdown",
      "metadata": {
        "id": "RFq8LGxoagMR"
      },
      "source": [
        "We can then split the dataset into train, validation and test sets, with a 80/10/10 split"
      ]
    },
    {
      "cell_type": "code",
      "execution_count": null,
      "metadata": {
        "id": "ku6wN9uIagMR",
        "outputId": "23d7511a-29ac-47bb-b26f-4529d491a701"
      },
      "outputs": [
        {
          "name": "stdout",
          "output_type": "stream",
          "text": [
            "Training set size: 27071\n",
            "Validation set size: 3384\n",
            "Test set size: 3384\n"
          ]
        }
      ],
      "source": [
        "from sklearn.model_selection import train_test_split\n",
        "\n",
        "# Assuming 'data' is your DataFrame\n",
        "# Split data into training (80%), validation (10%), and testing (10%)\n",
        "def train_validation_test_split(data, train_size=0.8, val_size=0.1, random_state=42):\n",
        "    # Split into training and remaining (validation + test) sets\n",
        "    train_data, remaining_data = train_test_split(data, test_size=(1 - train_size), random_state=random_state, stratify=data['classification'])\n",
        "    # Calculate the validation size relative to the remaining data\n",
        "    val_relative_size = val_size / (1 - train_size)\n",
        "    # Split the remaining data into validation and test sets\n",
        "    val_data, test_data = train_test_split(remaining_data, test_size=1 - val_relative_size, random_state=random_state, stratify=remaining_data['classification'])\n",
        "    return train_data.reset_index(drop=True), val_data.reset_index(drop=True), test_data.reset_index(drop=True)\n",
        "\n",
        "# Perform the split\n",
        "train_data, val_data, test_data = train_validation_test_split(data)\n",
        "\n",
        "# Print dataset sizes\n",
        "print(f\"Training set size: {len(train_data)}\")\n",
        "print(f\"Validation set size: {len(val_data)}\")\n",
        "print(f\"Test set size: {len(test_data)}\")"
      ]
    },
    {
      "cell_type": "markdown",
      "metadata": {
        "id": "nYnx_tmfagMR"
      },
      "source": [
        "# Skip gram"
      ]
    },
    {
      "cell_type": "markdown",
      "metadata": {
        "id": "2PmGmiivagMR"
      },
      "source": [
        "We can then create our Word2vec word embeddings using the skip gram model on the training set, so we avoid data leakage and don't end up getting a higher accuracy than we should"
      ]
    },
    {
      "cell_type": "code",
      "execution_count": null,
      "metadata": {
        "id": "mtQmcgxkagMR",
        "outputId": "9d2dcea1-5fa4-4064-8912-94850fb25240"
      },
      "outputs": [
        {
          "name": "stdout",
          "output_type": "stream",
          "text": [
            "[-1.0160935  -0.14497495 -1.0202705   0.654341   -0.61938596  0.58165944\n",
            " -0.5588342  -1.6019428   0.7448447  -0.9451276  -0.17454062  0.04071081\n",
            " -0.33959517  0.93060523 -0.01346079  0.24061143 -1.0377454   0.63527495\n",
            " -0.48189145  0.44444275  0.0531121  -0.5722121  -0.28755713 -0.5109383\n",
            "  1.1035836  -0.37869146 -0.60559094 -0.8811419   0.7629005   0.8907694\n",
            "  0.09930313  0.07626583 -0.04243743 -0.49923202  0.56322306 -1.0092188\n",
            " -0.2603358   0.33858293 -0.38865447  0.37236965 -0.78926176 -0.65133405\n",
            " -0.6028094   0.79057866 -0.06520203 -0.45260182 -0.2643303  -0.7881262\n",
            " -0.13966185 -0.35109442  0.1136246   0.2478398  -0.386656    0.41810927\n",
            "  0.6532311   0.11314034  0.29130134 -0.49595177 -0.82632923 -0.06001428\n",
            " -0.20699179 -0.05778765  0.3107675  -0.4857353  -1.8741084   0.41035622\n",
            "  0.04738929  0.02394866 -0.29655367  0.09184025  0.33432165 -0.53323376\n",
            " -0.6728489   0.6401141  -0.75247586  0.11517897  0.33702078 -0.85042936\n",
            " -0.61105865  0.7819193   0.02658508  0.90102243  0.46944368  0.03976638\n",
            "  0.15640676 -0.7345052   0.8591866   1.307731    0.24062356 -0.20873019\n",
            "  0.42509943  0.62423545  0.43336266  0.49473953 -0.66803956  0.37626565\n",
            " -1.0403706   1.3801605   0.19076484  0.6580808   0.74167246 -0.04662447\n",
            "  0.20431001  0.20175332 -0.27151605  0.8557379  -0.01409722 -0.06494103\n",
            "  0.84504855  0.17004198  0.6273697   0.45095858  0.53929865 -0.16066633\n",
            "  0.5251317   0.14229058  0.3540104  -0.44632736 -0.48322076  0.08133536\n",
            "  0.06355325  0.71760267  0.17862009 -1.3150458  -0.48947442 -0.26829883\n",
            " -0.5640965   0.2563947 ]\n"
          ]
        }
      ],
      "source": [
        "from gensim.models import Word2Vec\n",
        "\n",
        "# Prepare sentences (tokenized URLs) from the training data\n",
        "train_sentences = train_data['URL'].tolist()\n",
        "\n",
        "# Train Word2Vec model on training data only\n",
        "def train_word2vec(sentences, embedding_dim=128):\n",
        "    model = Word2Vec(sentences=sentences, vector_size=embedding_dim, window=5, min_count=1, sg=1, workers=1, seed=2)\n",
        "    return model\n",
        "\n",
        "# Train the embedding model\n",
        "embedding_dim = 128\n",
        "word2vec_model = train_word2vec(train_sentences, embedding_dim)\n",
        "\n",
        "# Try with random word (\"example\")\n",
        "print(word2vec_model.wv['example'])"
      ]
    },
    {
      "cell_type": "markdown",
      "metadata": {
        "id": "BPvh_wZmagMS"
      },
      "source": [
        "Here we see a simple example of how a word embedding looks like"
      ]
    },
    {
      "cell_type": "markdown",
      "metadata": {
        "id": "WczwupxDagMS"
      },
      "source": [
        "## t-SNE visualization"
      ]
    },
    {
      "cell_type": "markdown",
      "metadata": {
        "id": "FeCOkYuXagMS"
      },
      "source": [
        "To visualize the word embeddings, we can use t-SNE. Below we see a t-SNE visualization of 20 different words from the training set."
      ]
    },
    {
      "cell_type": "code",
      "execution_count": null,
      "metadata": {
        "id": "AvT3EqX1agMS",
        "outputId": "c0a945a7-3c5c-4bb8-c049-a20c85dc8c55"
      },
      "outputs": [
        {
          "data": {
            "image/png": "[encoded data removed]",
            "text/plain": [
              "<Figure size 700x500 with 1 Axes>"
            ]
          },
          "metadata": {},
          "output_type": "display_data"
        }
      ],
      "source": [
        "import numpy as np\n",
        "from sklearn.manifold import TSNE\n",
        "import matplotlib.pyplot as plt\n",
        "from googletrans import Translator\n",
        "\n",
        "number_of_words = 20\n",
        "\n",
        "# Function to extract word vectors and words, limited to max_words\n",
        "def get_word_vectors_and_labels(word2vec_model, max_words=20):\n",
        "    words = list(word2vec_model.wv.index_to_key)[5:5 + number_of_words]\n",
        "    vectors = np.array([word2vec_model.wv[word] for word in words])  # Convert to NumPy array\n",
        "    return vectors, words\n",
        "\n",
        "# Function to translate words to English\n",
        "def translate_words(words, src_lang=\"es\", dest_lang=\"en\"):\n",
        "    translator = Translator()\n",
        "    translated_words = [translator.translate(word, src=src_lang, dest=dest_lang).text for word in words]\n",
        "    return translated_words\n",
        "\n",
        "# Perform t-SNE\n",
        "def tsne_word2vec(vectors, n_components=2, random_state=42):\n",
        "    tsne = TSNE(n_components=n_components, random_state=random_state, init='pca', perplexity=5)\n",
        "    reduced_vectors = tsne.fit_transform(vectors)\n",
        "    return reduced_vectors\n",
        "\n",
        "# Plot t-SNE\n",
        "def plot_tsne(reduced_vectors, words, title=\"t-SNE Visualization\"):\n",
        "    plt.figure(figsize=(7, 5))\n",
        "    for i, word in enumerate(words):\n",
        "        x, y = reduced_vectors[i]\n",
        "        plt.scatter(x, y, marker='o', color='blue', zorder=4)\n",
        "        # white box behind the text\n",
        "        plt.text(x, y+5, word, fontsize=12, ha='center', va='center', color='black', bbox=dict(facecolor='white', alpha=0.8), zorder=5)\n",
        "    plt.title(title)\n",
        "    plt.xlabel(\"Dimension 1\", fontsize=14)\n",
        "    plt.ylabel(\"Dimension 2\", fontsize=14)\n",
        "    plt.grid(True)\n",
        "    plt.show()\n",
        "\n",
        "# Main\n",
        "# Extract word vectors and words (maximum 20 words)\n",
        "vectors, words = get_word_vectors_and_labels(word2vec_model, max_words=number_of_words)\n",
        "\n",
        "# Perform t-SNE\n",
        "reduced_vectors = tsne_word2vec(vectors)\n",
        "\n",
        "# Translate words from Spanish to English\n",
        "translated_words = translate_words(words)\n",
        "\n",
        "# Plot the t-SNE visualization\n",
        "plot_tsne(reduced_vectors, translated_words, title=\"t-SNE of Word2Vec Embeddings\")"
      ]
    },
    {
      "cell_type": "markdown",
      "metadata": {
        "id": "JTwguDapagMS"
      },
      "source": [
        "These words in the 2D space are clustered together based on their similarity in the high dimensional space, which is the word embedding space. We can see that words that are similar are clustered together. This is a good sign that the word embeddings are working as expected."
      ]
    },
    {
      "cell_type": "markdown",
      "metadata": {
        "id": "GX1arhuDagMS"
      },
      "source": [
        "## Dendrogram of word embeddings"
      ]
    },
    {
      "cell_type": "markdown",
      "metadata": {
        "id": "n5YwsW6MagMS"
      },
      "source": [
        "We can also create a dendrogram of the word embeddings to see how the words are clustered together using cosine similarity and hierarchical clustering."
      ]
    },
    {
      "cell_type": "code",
      "execution_count": null,
      "metadata": {
        "id": "YC49OPWhagMS",
        "outputId": "a10e0083-3e50-4012-b191-6b433d29f0a7"
      },
      "outputs": [
        {
          "data": {
            "image/png": "[encoded data removed]",
            "text/plain": [
              "<Figure size 600x300 with 1 Axes>"
            ]
          },
          "metadata": {},
          "output_type": "display_data"
        }
      ],
      "source": [
        "import numpy as np\n",
        "import matplotlib.pyplot as plt\n",
        "from scipy.cluster.hierarchy import linkage, dendrogram\n",
        "from sklearn.metrics.pairwise import cosine_similarity\n",
        "\n",
        "# Function to extract embeddings and compute cosine similarity\n",
        "def get_cosine_similarity_matrix(word2vec_model, selected_words):\n",
        "    word_vectors = np.array([word2vec_model.wv[word] for word in selected_words])\n",
        "    similarity_matrix = cosine_similarity(word_vectors)\n",
        "    return similarity_matrix\n",
        "\n",
        "# Function to plot clustered dendrogram\n",
        "def plot_dendrogram(similarity_matrix, words):\n",
        "    # Convert similarity to a distance matrix (1 - similarity)\n",
        "    distance_matrix = 1 - similarity_matrix\n",
        "    # Perform hierarchical clustering\n",
        "    linkage_matrix = linkage(distance_matrix, method='ward')\n",
        "    # Plot dendrogram\n",
        "    plt.figure(figsize=(6, 3))\n",
        "    # translate words from Spanish to English\n",
        "    words = translate_words(words)\n",
        "    dendrogram(linkage_matrix, labels=words, leaf_rotation=60, leaf_font_size=10)\n",
        "    plt.title(\"Clustered Dendrogram of Word Embeddings\")\n",
        "    plt.xlabel(\"Words\", fontsize=12)\n",
        "    plt.ylabel(\"Distance\", fontsize=12)\n",
        "    plt.show()\n",
        "\n",
        "# Select words to analyze, sample the first 10 words\n",
        "selected_words = list(word2vec_model.wv.index_to_key)[5:25]\n",
        "\n",
        "# Compute similarity matrix\n",
        "similarity_matrix = get_cosine_similarity_matrix(word2vec_model, selected_words)\n",
        "\n",
        "# Plot dendrogram\n",
        "plot_dendrogram(similarity_matrix, selected_words)"
      ]
    },
    {
      "cell_type": "markdown",
      "metadata": {
        "id": "S0VmRmdragMT"
      },
      "source": [
        "We can also use the dendrogram to see the hierarchical clustering of the words, where we see the same words clustered together (Using same words as in the t-SNE visualization)."
      ]
    },
    {
      "cell_type": "markdown",
      "metadata": {
        "id": "Qss8sKDIagMT"
      },
      "source": [
        "### Indexing the word embeddings"
      ]
    },
    {
      "cell_type": "markdown",
      "metadata": {
        "id": "cAJtsrcSagMT"
      },
      "source": [
        "We index the word embeddings to be able to better use them in the model"
      ]
    },
    {
      "cell_type": "code",
      "execution_count": null,
      "metadata": {
        "id": "gQ4Juu60agMT"
      },
      "outputs": [],
      "source": [
        "# Create a word-to-index mapping\n",
        "word_to_idx = {word: idx + 1 for idx, word in enumerate(word2vec_model.wv.index_to_key)}  # Start indexing from 1\n",
        "word_to_idx['<UNK>'] = 0  # Add unknown token\n",
        "\n",
        "vocab_size = len(word_to_idx)"
      ]
    },
    {
      "cell_type": "markdown",
      "metadata": {
        "id": "SNFsAJGRagMT"
      },
      "source": [
        "### Embedding matrix"
      ]
    },
    {
      "cell_type": "markdown",
      "metadata": {
        "id": "BwoYGzdjagMT"
      },
      "source": [
        "We can then create the embedding matrix for the model, where each row corresponds to a word in the vocabulary and each column corresponds to the word embedding."
      ]
    },
    {
      "cell_type": "code",
      "execution_count": null,
      "metadata": {
        "id": "UVegXDYsagMT"
      },
      "outputs": [],
      "source": [
        "import numpy as np\n",
        "\n",
        "# Prepare the embedding matrix\n",
        "embedding_matrix = np.zeros((vocab_size, embedding_dim))\n",
        "for word, idx in word_to_idx.items():\n",
        "    if word in word2vec_model.wv:\n",
        "        embedding_vector = word2vec_model.wv[word]\n",
        "        if embedding_vector is not None:\n",
        "            embedding_matrix[idx] = embedding_vector\n"
      ]
    },
    {
      "cell_type": "markdown",
      "metadata": {
        "id": "FFkTxeB8agMU"
      },
      "source": [
        "# Creating dataset for the model"
      ]
    },
    {
      "cell_type": "markdown",
      "metadata": {
        "id": "TV7r2ZJeagMU"
      },
      "source": [
        "We can then create the dataset for the model, where we pad the sequences to a maximum length of 1000 and use the word embeddings to represent the words in the sequences"
      ]
    },
    {
      "cell_type": "code",
      "execution_count": null,
      "metadata": {
        "id": "RwgVnwcqagMU"
      },
      "outputs": [],
      "source": [
        "import torch\n",
        "import torch.nn as nn\n",
        "import torch.optim as optim\n",
        "from torch.utils.data import DataLoader, Dataset\n",
        "\n",
        "# Define a dataset class for tokenized data\n",
        "class URLDataset(Dataset):\n",
        "    def __init__(self, data, word_to_idx, max_len=100): # 100 is a bit above average of 58\n",
        "        self.data = data\n",
        "        self.word_to_idx = word_to_idx\n",
        "        self.max_len = max_len\n",
        "\n",
        "    def __len__(self):\n",
        "        return len(self.data)\n",
        "\n",
        "    def __getitem__(self, idx):\n",
        "        url_tokens = self.data.iloc[idx]['URL']\n",
        "        label = self.data.iloc[idx]['classification']\n",
        "\n",
        "        # Convert tokens to indices\n",
        "        indices = [\n",
        "            self.word_to_idx.get(word, self.word_to_idx['<UNK>'])  # Use <UNK> index for unknown words\n",
        "            for word in url_tokens\n",
        "        ]\n",
        "\n",
        "        # Pad or truncate to max_len\n",
        "        if len(indices) > self.max_len:\n",
        "            indices = indices[:self.max_len]  # Truncate\n",
        "        else:\n",
        "            indices += [self.word_to_idx['<UNK>']] * (self.max_len - len(indices))  # Pad with <UNK>\n",
        "\n",
        "        indices = torch.tensor(indices, dtype=torch.long)\n",
        "        label = torch.tensor(label, dtype=torch.long)\n",
        "        return indices, label"
      ]
    },
    {
      "cell_type": "markdown",
      "metadata": {
        "id": "sF152OBQagMU"
      },
      "source": [
        "## TextCNN model architecture"
      ]
    },
    {
      "cell_type": "markdown",
      "metadata": {
        "id": "BVMx7jpBagMU"
      },
      "source": [
        "We can then create the TextCNN model and train it on the training set, for this model we use the embedding matrix as the word embeddings, which is then fine-tuned during training. After this we use a convolutional layer with a window size of 2, 3, 4 and 5, with 128 filters for each window size. We then use a max pooling layer and then a binary classification layer."
      ]
    },
    {
      "cell_type": "code",
      "execution_count": null,
      "metadata": {
        "id": "jlBFFyFlagMU",
        "outputId": "58705713-45e9-4769-bbfc-6d23ce0057a5"
      },
      "outputs": [
        {
          "name": "stdout",
          "output_type": "stream",
          "text": [
            "Device available for running: cuda\n"
          ]
        },
        {
          "data": {
            "text/plain": [
              "TextCNN(\n",
              "  (embedding): Embedding(47786, 128, padding_idx=0)\n",
              "  (convs): ModuleList(\n",
              "    (0): Conv2d(1, 64, kernel_size=(2, 128), stride=(1, 1))\n",
              "    (1): Conv2d(1, 64, kernel_size=(3, 128), stride=(1, 1))\n",
              "    (2): Conv2d(1, 64, kernel_size=(4, 128), stride=(1, 1))\n",
              "    (3): Conv2d(1, 64, kernel_size=(5, 128), stride=(1, 1))\n",
              "  )\n",
              "  (fc): Linear(in_features=256, out_features=2, bias=True)\n",
              ")"
            ]
          },
          "execution_count": 28,
          "metadata": {},
          "output_type": "execute_result"
        }
      ],
      "source": [
        "import torch\n",
        "import torch.nn as nn\n",
        "import torch.optim as optim\n",
        "\n",
        "# Define the TextCNN model\n",
        "class TextCNN(nn.Module):\n",
        "    def __init__(self, vocab_size, embedding_dim, embedding_matrix, filter_sizes=(2, 3, 4, 5), num_filters=64):\n",
        "        super(TextCNN, self).__init__()\n",
        "        self.embedding = nn.Embedding(num_embeddings=vocab_size, embedding_dim=embedding_dim, padding_idx=0)\n",
        "        # Initialize embedding layer with pre-trained embeddings\n",
        "        self.embedding.weight.data.copy_(torch.from_numpy(embedding_matrix))\n",
        "        self.embedding.weight.requires_grad = True  # Allow fine-tuning\n",
        "        self.convs = nn.ModuleList([nn.Conv2d(1, num_filters, (filter_size, embedding_dim)) for filter_size in filter_sizes])\n",
        "        self.fc = nn.Linear(len(filter_sizes) * num_filters, 2)  # Assuming binary classification\n",
        "\n",
        "    def forward(self, x):\n",
        "        x = self.embedding(x)  # Shape: (batch_size, max_len, embedding_dim)\n",
        "        x = x.unsqueeze(1)  # Shape: (batch_size, 1, max_len, embedding_dim)\n",
        "        conved = [torch.relu(conv(x)).squeeze(3) for conv in self.convs]\n",
        "        pooled = [torch.max(conv, dim=2)[0] for conv in conved]\n",
        "        cat = torch.cat(pooled, dim=1)\n",
        "        output = self.fc(cat)\n",
        "        return output\n",
        "\n",
        "device = torch.device('cuda' if torch.cuda.is_available() else 'cpu')\n",
        "print(\"Device available for running:\", device)\n",
        "\n",
        "# Initialize the model\n",
        "textcnn = TextCNN(vocab_size=vocab_size, embedding_dim=embedding_dim, embedding_matrix=embedding_matrix)\n",
        "textcnn.to(device)"
      ]
    },
    {
      "cell_type": "markdown",
      "metadata": {
        "id": "o-TJXtokagMU"
      },
      "source": [
        "# Training the TextCNN model"
      ]
    },
    {
      "cell_type": "markdown",
      "metadata": {
        "id": "2mIBbtoqagMV"
      },
      "source": [
        "We are now ready to train the TextCNN model"
      ]
    },
    {
      "cell_type": "code",
      "execution_count": null,
      "metadata": {
        "id": "VQMnBknBagMV",
        "outputId": "ba28c373-fdb2-4306-c37c-4ddf1e1fa0ab"
      },
      "outputs": [
        {
          "name": "stdout",
          "output_type": "stream",
          "text": [
            "Epoch [1/15], Train Loss: 0.1685, Val Loss: 0.0591, Model Saved: saved_models\\textcnn_epoch_1.pth\n",
            "Epoch [2/15], Train Loss: 0.0053, Val Loss: 0.0264, Model Saved: saved_models\\textcnn_epoch_2.pth\n",
            "Epoch [3/15], Train Loss: 0.0011, Val Loss: 0.0251, Model Saved: saved_models\\textcnn_epoch_3.pth\n",
            "Epoch [4/15], Train Loss: 0.0008, Val Loss: 0.0239, Model Saved: saved_models\\textcnn_epoch_4.pth\n",
            "Epoch [5/15], Train Loss: 0.0006, Val Loss: 0.0243, Model Saved: saved_models\\textcnn_epoch_5.pth\n",
            "Epoch [6/15], Train Loss: 0.0002, Val Loss: 0.0249, Model Saved: saved_models\\textcnn_epoch_6.pth\n",
            "Epoch [7/15], Train Loss: 0.0005, Val Loss: 0.0237, Model Saved: saved_models\\textcnn_epoch_7.pth\n",
            "Epoch [8/15], Train Loss: 0.0005, Val Loss: 0.0273, Model Saved: saved_models\\textcnn_epoch_8.pth\n",
            "Epoch [9/15], Train Loss: 0.0004, Val Loss: 0.0321, Model Saved: saved_models\\textcnn_epoch_9.pth\n",
            "Epoch [10/15], Train Loss: 0.0001, Val Loss: 0.0253, Model Saved: saved_models\\textcnn_epoch_10.pth\n",
            "Epoch [11/15], Train Loss: 0.0000, Val Loss: 0.0278, Model Saved: saved_models\\textcnn_epoch_11.pth\n",
            "Epoch [12/15], Train Loss: 0.0000, Val Loss: 0.0284, Model Saved: saved_models\\textcnn_epoch_12.pth\n",
            "Epoch [13/15], Train Loss: 0.0000, Val Loss: 0.0274, Model Saved: saved_models\\textcnn_epoch_13.pth\n",
            "Epoch [14/15], Train Loss: 0.0000, Val Loss: 0.0283, Model Saved: saved_models\\textcnn_epoch_14.pth\n",
            "Epoch [15/15], Train Loss: 0.0000, Val Loss: 0.0287, Model Saved: saved_models\\textcnn_epoch_15.pth\n",
            "All models are saved in: saved_models\n"
          ]
        }
      ],
      "source": [
        "import torch\n",
        "import os\n",
        "\n",
        "# Create Dataset and DataLoader for training data\n",
        "train_dataset = URLDataset(train_data, word_to_idx)\n",
        "train_dataloader = DataLoader(train_dataset, batch_size=32, shuffle=True)\n",
        "\n",
        "# Create Dataset and DataLoader for validation data\n",
        "val_dataset = URLDataset(val_data, word_to_idx)\n",
        "val_dataloader = DataLoader(val_dataset, batch_size=32, shuffle=False)\n",
        "\n",
        "# Define loss function and optimizer\n",
        "criterion = nn.CrossEntropyLoss()\n",
        "optimizer = optim.Adam(textcnn.parameters(), lr=0.001)\n",
        "\n",
        "# Initialize lists to store losses\n",
        "train_losses = []\n",
        "val_losses = []\n",
        "\n",
        "# Directory to save models\n",
        "model_save_dir = \"saved_models\"\n",
        "os.makedirs(model_save_dir, exist_ok=True)\n",
        "\n",
        "# Training Loop\n",
        "num_epochs = 15\n",
        "\n",
        "textcnn.to(device)  # Move model to GPU if available\n",
        "\n",
        "for epoch in range(num_epochs):\n",
        "    total_loss = 0\n",
        "    textcnn.train()  # Ensure model is in training mode\n",
        "\n",
        "    # Training Phase\n",
        "    for indices, labels in train_dataloader:\n",
        "        indices, labels = indices.to(device), labels.to(device)  # Move tensors to GPU\n",
        "        optimizer.zero_grad()\n",
        "        outputs = textcnn(indices)\n",
        "        loss = criterion(outputs, labels)\n",
        "        loss.backward()\n",
        "        optimizer.step()\n",
        "        total_loss += loss.item()\n",
        "\n",
        "    avg_loss = total_loss / len(train_dataloader)\n",
        "    train_losses.append(avg_loss)\n",
        "\n",
        "    # Validation Phase\n",
        "    textcnn.eval()  # Set model to evaluation mode\n",
        "    val_loss = 0\n",
        "    with torch.no_grad():\n",
        "        for val_indices, val_labels in val_dataloader:\n",
        "            val_indices, val_labels = val_indices.to(device), val_labels.to(device)\n",
        "            val_outputs = textcnn(val_indices)\n",
        "            loss = criterion(val_outputs, val_labels)\n",
        "            val_loss += loss.item()\n",
        "    avg_val_loss = val_loss / len(val_dataloader)\n",
        "    val_losses.append(avg_val_loss)\n",
        "\n",
        "    # Save the model for the current epoch\n",
        "    model_path = os.path.join(model_save_dir, f\"textcnn_epoch_{epoch + 1}.pth\")\n",
        "    torch.save(textcnn.state_dict(), model_path)\n",
        "\n",
        "    print(f'Epoch [{epoch + 1}/{num_epochs}], Train Loss: {avg_loss:.4f}, Val Loss: {avg_val_loss:.4f}, Model Saved: {model_path}')\n",
        "\n",
        "print(f\"All models are saved in: {model_save_dir}\")"
      ]
    },
    {
      "cell_type": "markdown",
      "metadata": {
        "id": "02u56Si1agMV"
      },
      "source": [
        "## Loss plot of the TextCNN model"
      ]
    },
    {
      "cell_type": "code",
      "execution_count": null,
      "metadata": {
        "id": "KrriBiZfagMV",
        "outputId": "da1b5b3f-6784-4c7e-fea7-2fc23f183205"
      },
      "outputs": [
        {
          "data": {
            "image/png": "[encoded data removed]",
            "text/plain": [
              "<Figure size 600x400 with 1 Axes>"
            ]
          },
          "metadata": {},
          "output_type": "display_data"
        }
      ],
      "source": [
        "import matplotlib.pyplot as plt\n",
        "\n",
        "# Create the plot\n",
        "plt.figure(figsize=(6, 4))\n",
        "\n",
        "# Plot training and validation loss, add points for each epoch\n",
        "plt.plot(range(1, num_epochs + 1), train_losses, label='Training Loss', color='#0000f5', linewidth=2, marker='o')\n",
        "plt.plot(range(1, num_epochs + 1), val_losses, label='Validation Loss', color='#2e60a4', linewidth=2, linestyle='--', marker='o')\n",
        "\n",
        "# Customize axes and labels\n",
        "plt.xlabel('Epoch', fontsize=14)\n",
        "plt.ylabel('Loss', fontsize=14)\n",
        "plt.title('Training and Validation Loss', fontsize=16)\n",
        "plt.xticks(range(1, num_epochs + 1), fontsize=10)  # Show all x-ticks\n",
        "plt.yticks(fontsize=10)\n",
        "\n",
        "# Add legend and gridlines\n",
        "plt.legend(fontsize=12)\n",
        "plt.grid(visible=True, linestyle='--', alpha=0.7)\n",
        "\n",
        "# Tight layout for IEEE style\n",
        "plt.tight_layout()\n",
        "\n",
        "# Save the plot\n",
        "plt.savefig(\"training_validation_loss.pdf\", dpi=300)  # Higher DPI for professional quality\n",
        "plt.show()"
      ]
    },
    {
      "cell_type": "markdown",
      "metadata": {
        "id": "UyLbVPmRagMV"
      },
      "source": [
        "We see that the loss of the model is decreasing, but for validation the loss seems to plateau a few epochs, this does show that the model is not overfitting to much."
      ]
    },
    {
      "cell_type": "markdown",
      "metadata": {
        "id": "EvSvL8kHagMV"
      },
      "source": [
        "# Load best model"
      ]
    },
    {
      "cell_type": "markdown",
      "metadata": {
        "id": "MR2ZFzhcagMV"
      },
      "source": [
        "We now pick the best model to be the one from epoch 7"
      ]
    },
    {
      "cell_type": "code",
      "execution_count": null,
      "metadata": {
        "id": "mJ25N64hagMV",
        "outputId": "e5a994db-6652-4735-bc99-72d98cef497b"
      },
      "outputs": [
        {
          "data": {
            "text/plain": [
              "TextCNN(\n",
              "  (embedding): Embedding(47786, 128, padding_idx=0)\n",
              "  (convs): ModuleList(\n",
              "    (0): Conv2d(1, 64, kernel_size=(2, 128), stride=(1, 1))\n",
              "    (1): Conv2d(1, 64, kernel_size=(3, 128), stride=(1, 1))\n",
              "    (2): Conv2d(1, 64, kernel_size=(4, 128), stride=(1, 1))\n",
              "    (3): Conv2d(1, 64, kernel_size=(5, 128), stride=(1, 1))\n",
              "  )\n",
              "  (fc): Linear(in_features=256, out_features=2, bias=True)\n",
              ")"
            ]
          },
          "execution_count": 31,
          "metadata": {},
          "output_type": "execute_result"
        }
      ],
      "source": [
        "# load the best model\n",
        "best_model_path = \"saved_models/textcnn_epoch_7.pth\"\n",
        "textcnn.load_state_dict(torch.load(best_model_path))\n",
        "textcnn.eval()"
      ]
    },
    {
      "cell_type": "markdown",
      "metadata": {
        "id": "v-wcIMvqagMV"
      },
      "source": [
        "# Semantic feature extraction from TextCNN model"
      ]
    },
    {
      "cell_type": "markdown",
      "metadata": {
        "id": "yOEVYn3hagMW"
      },
      "source": [
        "We can now extract the semantic features from the TextCNN model so we can use them in the next SVM classifier"
      ]
    },
    {
      "cell_type": "code",
      "execution_count": null,
      "metadata": {
        "id": "7XShIKsqagMW"
      },
      "outputs": [],
      "source": [
        "# Feature extraction function\n",
        "def extract_textcnn_features(textcnn, data, word_to_idx):\n",
        "    dataset = URLDataset(data.reset_index(drop=True), word_to_idx)\n",
        "    dataloader = DataLoader(dataset, batch_size=32, shuffle=False)\n",
        "\n",
        "    textcnn.eval()\n",
        "    features = []\n",
        "    labels = []\n",
        "    with torch.no_grad():\n",
        "        for indices, label in dataloader:\n",
        "            indices = indices.to(device)  # Move data to GPU\n",
        "            outputs = textcnn.embedding(indices)\n",
        "            x = outputs.unsqueeze(1)\n",
        "            conved = [torch.relu(conv(x)).squeeze(3) for conv in textcnn.convs]\n",
        "            pooled = [torch.max(conv, dim=2)[0] for conv in conved]\n",
        "            feat = torch.cat(pooled, dim=1)\n",
        "            features.append(feat.cpu().numpy())  # Move back to CPU for further processing\n",
        "            labels.append(label.numpy())\n",
        "    features = np.vstack(features)\n",
        "    labels = np.hstack(labels)\n",
        "    return features, labels\n",
        "\n",
        "# Extract features for training, validation, and test sets\n",
        "train_semantic_features, train_labels = extract_textcnn_features(textcnn, train_data, word_to_idx)\n",
        "val_semantic_features, val_labels = extract_textcnn_features(textcnn, val_data, word_to_idx)\n",
        "test_semantic_features, test_labels = extract_textcnn_features(textcnn, test_data, word_to_idx)"
      ]
    },
    {
      "cell_type": "markdown",
      "metadata": {
        "id": "ep02tnuVagMW"
      },
      "source": [
        "# Statistical feature extraction from preprocessed dataset"
      ]
    },
    {
      "cell_type": "markdown",
      "metadata": {
        "id": "dlIZpXA9agMW"
      },
      "source": [
        "We also calculate the statistical features from the preprocessed dataset. Which are 'decoding_counts', 'illegal_keys', and 'illegal_values'."
      ]
    },
    {
      "cell_type": "code",
      "execution_count": null,
      "metadata": {
        "id": "NQ46bsQCagMW"
      },
      "outputs": [],
      "source": [
        "import re\n",
        "\n",
        "def extract_key_value_pairs(tokens):\n",
        "    key_value_pairs = {}\n",
        "    # Logic to extract key-value pairs from tokens\n",
        "    # This will depend on how your tokens are structured\n",
        "    # For example, if tokens are ['key', '=', 'value', '&', 'key2', '=', 'value2']\n",
        "    i = 0\n",
        "    while i < len(tokens):\n",
        "        if tokens[i].isalnum():\n",
        "            key = tokens[i]\n",
        "            if i + 2 < len(tokens) and tokens[i + 1] == '=' and tokens[i + 2]:\n",
        "                value = tokens[i + 2]\n",
        "                key_value_pairs[key] = value\n",
        "                i += 3  # Move past 'key', '=', 'value'\n",
        "            else:\n",
        "                i += 1\n",
        "        else:\n",
        "            i += 1\n",
        "    return key_value_pairs\n",
        "\n",
        "def get_value_pattern(value):\n",
        "    # Replace numbers with <NUM>, special chars with <SRC>, mixed with <STR>\n",
        "    pattern = ''\n",
        "    tokens = re.findall(r'\\d+|[^\\w\\s]|[A-Za-z]+', value)\n",
        "    for token in tokens:\n",
        "        if token.isdigit():\n",
        "            pattern += '<NUM>'\n",
        "        elif token.isalpha():\n",
        "            pattern += '<STR>'\n",
        "        else:\n",
        "            pattern += '<SRC>'\n",
        "    return pattern"
      ]
    },
    {
      "cell_type": "code",
      "execution_count": null,
      "metadata": {
        "id": "HKq4Cee8agMW"
      },
      "outputs": [],
      "source": [
        "# imports edit distance\n",
        "from nltk.metrics import edit_distance\n",
        "\n",
        "def extract_statistical_features(data, normal_keys_set, normal_value_patterns):\n",
        "    features = []\n",
        "    for index, row in data.iterrows():\n",
        "        url_tokens = row['URL']\n",
        "        decoding_counts = row['decoding_counts']  # Assuming you have computed this during preprocessing\n",
        "\n",
        "        # Extract key-value pairs\n",
        "        key_value_pairs = extract_key_value_pairs(url_tokens)\n",
        "\n",
        "        # Illegal keys\n",
        "        illegal_keys_count = 0\n",
        "        for key in key_value_pairs.keys():\n",
        "            if key not in normal_keys_set:\n",
        "                # Calculate edit distance with normal keys\n",
        "                min_edit_distance = min([edit_distance(key, normal_key) for normal_key in normal_keys_set])\n",
        "                if min_edit_distance < 2:  # Threshold as per paper\n",
        "                    illegal_keys_count += 1\n",
        "\n",
        "        # Illegal values\n",
        "        illegal_values_count = 0\n",
        "        for key, value in key_value_pairs.items():\n",
        "            value_pattern = get_value_pattern(value)\n",
        "            if key in normal_value_patterns and value_pattern not in normal_value_patterns[key]:\n",
        "                illegal_values_count += 1\n",
        "\n",
        "        features.append([decoding_counts, illegal_keys_count, illegal_values_count])\n",
        "    return np.array(features)"
      ]
    },
    {
      "cell_type": "markdown",
      "metadata": {
        "id": "mkagjKAnagMW"
      },
      "source": [
        "We then do the same for the training, validation and test sets"
      ]
    },
    {
      "cell_type": "code",
      "execution_count": null,
      "metadata": {
        "id": "JSZMiK9eagMW"
      },
      "outputs": [],
      "source": [
        "from collections import defaultdict\n",
        "\n",
        "# Build normal keys set and value patterns from training data\n",
        "normal_train_data = train_data[train_data['classification'] == 0]\n",
        "normal_keys_set = set()\n",
        "normal_value_patterns = defaultdict(set)\n",
        "\n",
        "for index, row in normal_train_data.iterrows():\n",
        "    url_tokens = row['URL']\n",
        "    key_value_pairs = extract_key_value_pairs(url_tokens)\n",
        "    normal_keys_set.update(key_value_pairs.keys())\n",
        "    for key, value in key_value_pairs.items():\n",
        "        pattern = get_value_pattern(value)\n",
        "        normal_value_patterns[key].add(pattern)\n",
        "\n",
        "# Extract statistical features for training, validation, and test sets\n",
        "train_statistical_features = extract_statistical_features(train_data, normal_keys_set, normal_value_patterns)\n",
        "val_statistical_features = extract_statistical_features(val_data, normal_keys_set, normal_value_patterns)\n",
        "test_statistical_features = extract_statistical_features(test_data, normal_keys_set, normal_value_patterns)"
      ]
    },
    {
      "cell_type": "markdown",
      "metadata": {
        "id": "5NY6WV3nagMW"
      },
      "source": [
        "# Training and testing SVM model"
      ]
    },
    {
      "cell_type": "markdown",
      "metadata": {
        "id": "-N_09giKagMX"
      },
      "source": [
        "Training and test the final Hybric combined SVC classifier model. We use the semantic features from the TextCNN model and the statistical features from the preprocessed dataset."
      ]
    },
    {
      "cell_type": "code",
      "execution_count": null,
      "metadata": {
        "id": "Yrri1Ir9agMX",
        "outputId": "7204eb9d-983d-4b1b-d2fa-86a3a97aa55a"
      },
      "outputs": [
        {
          "name": "stdout",
          "output_type": "stream",
          "text": [
            "Training the SVM...\n",
            "SVM training complete.\n",
            "Test Accuracy: 0.9982\n",
            "Test Precision: 0.9982\n",
            "Test Recall: 0.9982\n",
            "Test F1-Score: 0.9982\n",
            "\n",
            "Test Classification Report:\n",
            "              precision    recall  f1-score   support\n",
            "\n",
            "           0       1.00      1.00      1.00      1864\n",
            "           1       1.00      1.00      1.00      1520\n",
            "\n",
            "    accuracy                           1.00      3384\n",
            "   macro avg       1.00      1.00      1.00      3384\n",
            "weighted avg       1.00      1.00      1.00      3384\n",
            "\n"
          ]
        }
      ],
      "source": [
        "# Combine features\n",
        "train_combined_features = np.hstack((train_semantic_features, train_statistical_features))\n",
        "val_combined_features = np.hstack((val_semantic_features, val_statistical_features))\n",
        "test_combined_features = np.hstack((test_semantic_features, test_statistical_features))\n",
        "\n",
        "# Train the SVM on the training set\n",
        "from sklearn.svm import SVC\n",
        "from sklearn.metrics import accuracy_score, precision_score, recall_score, f1_score, classification_report\n",
        "\n",
        "svm = SVC(kernel='rbf', probability=True, C=1.0, gamma='scale')\n",
        "\n",
        "print(\"Training the SVM...\")\n",
        "svm.fit(train_combined_features, train_labels)\n",
        "print(\"SVM training complete.\")\n",
        "\n",
        "# Evaluate on the test set\n",
        "y_test_pred = svm.predict(test_combined_features)\n",
        "test_accuracy = accuracy_score(test_labels, y_test_pred)\n",
        "test_precision = precision_score(test_labels, y_test_pred, average='weighted')\n",
        "test_recall = recall_score(test_labels, y_test_pred, average='weighted')\n",
        "test_f1 = f1_score(test_labels, y_test_pred, average='weighted')\n",
        "\n",
        "print(f\"Test Accuracy: {test_accuracy:.4f}\")\n",
        "print(f\"Test Precision: {test_precision:.4f}\")\n",
        "print(f\"Test Recall: {test_recall:.4f}\")\n",
        "print(f\"Test F1-Score: {test_f1:.4f}\")\n",
        "\n",
        "# Detailed classification report\n",
        "print(\"\\nTest Classification Report:\")\n",
        "print(classification_report(test_labels, y_test_pred))"
      ]
    },
    {
      "cell_type": "markdown",
      "metadata": {
        "id": "c3byMxebagMX"
      },
      "source": [
        "We see that the model has a high accuracy of 0.99 on the test set. With a precision of 0.99, recall of 0.99 and F1 score of 0.99"
      ]
    },
    {
      "cell_type": "markdown",
      "metadata": {
        "id": "nhOH9Z7eagMX"
      },
      "source": [
        "## Confusion matrix"
      ]
    },
    {
      "cell_type": "markdown",
      "metadata": {
        "id": "mKrCFVAAagMX"
      },
      "source": [
        "We can also create a confusion matrix to see how the model is performing"
      ]
    },
    {
      "cell_type": "code",
      "execution_count": null,
      "metadata": {
        "id": "byO67CYLagMX",
        "outputId": "d8e69e09-fb03-40e0-d3e5-10771a53e907"
      },
      "outputs": [
        {
          "data": {
            "image/png": "[encoded data removed]",
            "text/plain": [
              "<Figure size 300x200 with 1 Axes>"
            ]
          },
          "metadata": {},
          "output_type": "display_data"
        }
      ],
      "source": [
        "import matplotlib.pyplot as plt\n",
        "from sklearn.metrics import confusion_matrix\n",
        "import seaborn as sns\n",
        "\n",
        "# Generate confusion matrix\n",
        "cm = confusion_matrix(test_labels, y_test_pred)\n",
        "\n",
        "# Plot confusion matrix\n",
        "plt.figure(figsize=(3, 2))\n",
        "sns.heatmap(cm, annot=True, fmt='d', cmap='Blues', cbar=False, linewidths=0.5)\n",
        "plt.xlabel('Predicted', fontsize=8)\n",
        "plt.ylabel('True', fontsize=8)\n",
        "plt.title('Confusion Matrix', fontsize=10)\n",
        "plt.xticks(ticks=[0.5, 1.5], labels=['Normal', 'Anomalous'], fontsize=8)\n",
        "plt.yticks(ticks=[0.5, 1.5], labels=['Normal', 'Anomalous'], fontsize=8, rotation=90)\n",
        "\n",
        "plt.savefig('confusion_matrix.png', dpi=300, bbox_inches='tight')  # Save with high DPI\n",
        "plt.show()"
      ]
    },
    {
      "cell_type": "markdown",
      "metadata": {
        "id": "jjziRoJqagMX"
      },
      "source": [
        "We see that the model is performing very well, with only a few false positives and no false negatives"
      ]
    },
    {
      "cell_type": "markdown",
      "metadata": {
        "id": "QtgbxesYagMX"
      },
      "source": [
        "## ROC curve"
      ]
    },
    {
      "cell_type": "code",
      "execution_count": null,
      "metadata": {
        "id": "GHaw5g3PagMX",
        "outputId": "91e170c9-0c10-4073-dbfe-f755dd38ff7b"
      },
      "outputs": [
        {
          "data": {
            "image/png": "[encoded data removed]",
            "text/plain": [
              "<Figure size 400x300 with 1 Axes>"
            ]
          },
          "metadata": {},
          "output_type": "display_data"
        }
      ],
      "source": [
        "# roc curve\n",
        "import matplotlib.pyplot as plt\n",
        "from sklearn.metrics import roc_curve, roc_auc_score\n",
        "\n",
        "# Get predicted probabilities\n",
        "y_test_probs = svm.predict_proba(test_combined_features)[:, 1]\n",
        "fpr, tpr, _ = roc_curve(test_labels, y_test_probs)\n",
        "\n",
        "# Calculate AUC\n",
        "auc = roc_auc_score(test_labels, y_test_probs)\n",
        "\n",
        "# Plot ROC curve\n",
        "plt.figure(figsize=(4, 3))\n",
        "plt.plot(fpr, tpr, color='blue', label=f'AUC = {auc:.4f}')\n",
        "plt.plot([0, 1], [0, 1], color='red', linestyle='--')\n",
        "plt.xlabel('False Positive Rate')\n",
        "plt.ylabel('True Positive Rate')\n",
        "plt.title('Receiver Operating Characteristic (ROC) Curve')\n",
        "plt.legend()\n",
        "plt.show()"
      ]
    },
    {
      "cell_type": "markdown",
      "metadata": {
        "id": "yxoHM5vHagMX"
      },
      "source": [
        "## PR curve"
      ]
    },
    {
      "cell_type": "code",
      "execution_count": null,
      "metadata": {
        "id": "oVAL1lO6agMX",
        "outputId": "29cdbefb-c6d9-4df5-e364-942d61b79f76"
      },
      "outputs": [
        {
          "data": {
            "image/png": "[encoded data removed]",
            "text/plain": [
              "<Figure size 400x300 with 1 Axes>"
            ]
          },
          "metadata": {},
          "output_type": "display_data"
        }
      ],
      "source": [
        "# PR curve\n",
        "from sklearn.metrics import precision_recall_curve, average_precision_score\n",
        "\n",
        "precision, recall, _ = precision_recall_curve(test_labels, y_test_probs)\n",
        "average_precision = average_precision_score(test_labels, y_test_probs)\n",
        "\n",
        "# Plot PR curve\n",
        "plt.figure(figsize=(4, 3))\n",
        "plt.plot(recall, precision, color='blue', label=f'Average Precision = {average_precision:.4f}')\n",
        "plt.xlabel('Recall')\n",
        "plt.ylabel('Precision')\n",
        "plt.title('Precision-Recall Curve')\n",
        "plt.legend()\n",
        "plt.show()"
      ]
    },
    {
      "cell_type": "markdown",
      "metadata": {
        "id": "5Duii-_OagMY"
      },
      "source": [
        "# Model only trained on semantic features"
      ]
    },
    {
      "cell_type": "code",
      "execution_count": null,
      "metadata": {
        "id": "XeXScRXQagMY",
        "outputId": "2c167b76-17c7-402d-9395-72f179bb8ea1"
      },
      "outputs": [
        {
          "name": "stdout",
          "output_type": "stream",
          "text": [
            "Training the SVM...\n",
            "SVM training complete.\n",
            "Test Accuracy: 0.9982\n",
            "Test Precision: 0.9982\n",
            "Test Recall: 0.9982\n",
            "Test F1-Score: 0.9982\n",
            "\n",
            "Test Classification Report:\n",
            "              precision    recall  f1-score   support\n",
            "\n",
            "           0       1.00      1.00      1.00      1864\n",
            "           1       1.00      1.00      1.00      1520\n",
            "\n",
            "    accuracy                           1.00      3384\n",
            "   macro avg       1.00      1.00      1.00      3384\n",
            "weighted avg       1.00      1.00      1.00      3384\n",
            "\n"
          ]
        }
      ],
      "source": [
        "# With only semantic features\n",
        "svm = SVC(kernel='rbf', probability=True, C=1.0, gamma='scale')\n",
        "\n",
        "print(\"Training the SVM...\")\n",
        "svm.fit(train_semantic_features, train_labels)\n",
        "print(\"SVM training complete.\")\n",
        "\n",
        "# Evaluate on the test set\n",
        "y_test_pred = svm.predict(test_semantic_features)\n",
        "test_accuracy = accuracy_score(test_labels, y_test_pred)\n",
        "test_precision = precision_score(test_labels, y_test_pred, average='weighted')\n",
        "test_recall = recall_score(test_labels, y_test_pred, average='weighted')\n",
        "test_f1 = f1_score(test_labels, y_test_pred, average='weighted')\n",
        "\n",
        "print(f\"Test Accuracy: {test_accuracy:.4f}\")\n",
        "print(f\"Test Precision: {test_precision:.4f}\")\n",
        "print(f\"Test Recall: {test_recall:.4f}\")\n",
        "print(f\"Test F1-Score: {test_f1:.4f}\")\n",
        "\n",
        "# Detailed classification report\n",
        "print(\"\\nTest Classification Report:\")\n",
        "print(classification_report(test_labels, y_test_pred))"
      ]
    },
    {
      "cell_type": "code",
      "execution_count": null,
      "metadata": {
        "id": "hNp9oT-XagMY",
        "outputId": "0f030ad6-6506-4999-9849-7059c0cde105"
      },
      "outputs": [
        {
          "name": "stdout",
          "output_type": "stream",
          "text": [
            "Semantic Feature:\n",
            "[0.         0.         1.9211733  0.         2.9419792  0.\n",
            " 0.5690233  2.062673   0.         0.         1.4622031  1.9911659\n",
            " 0.         0.07955816 0.         4.1683555  0.49875307 0.\n",
            " 2.7999365  3.7771895  0.         3.5563824  0.         2.062141\n",
            " 0.         0.         3.194212   0.38831294 1.4761919  0.\n",
            " 1.4254982  0.         0.         3.2434993  0.         0.\n",
            " 0.         0.         0.3432288  0.         0.         0.\n",
            " 0.         0.9388422  1.7466178  1.191193   0.         0.\n",
            " 2.1826577  0.17578635 3.1585543  0.         1.5825014  0.\n",
            " 0.         0.         0.         0.         0.12814432 1.9562179\n",
            " 2.8978174  0.12468135 0.04403436 0.         2.3132875  0.13095996\n",
            " 0.37188718 0.         0.         2.52571    0.8443131  0.\n",
            " 0.         0.7001301  0.         3.2327056  0.         0.\n",
            " 2.7438283  0.3463938  1.1176941  0.         0.70380235 0.83156246\n",
            " 0.         1.8217038  3.6986933  0.         0.         0.\n",
            " 0.         0.57347137 0.         0.         2.4920454  0.\n",
            " 1.0970584  0.         0.         2.059668   1.8579595  0.\n",
            " 1.4278252  0.87973905 0.02810882 0.         3.161827   0.\n",
            " 0.         0.         0.67602944 2.8345253  0.         0.\n",
            " 2.0227563  0.         2.1981633  3.3176095  0.         0.\n",
            " 0.         1.4433903  0.         3.2704246  0.         0.\n",
            " 0.27333894 0.         0.6326492  0.         1.2158252  3.6837516\n",
            " 0.         2.9991162  0.         0.         0.52442366 0.\n",
            " 3.4833333  0.         0.         1.1316451  1.142026   1.2352774\n",
            " 0.         0.         0.         0.1885229  0.         0.\n",
            " 0.96097445 0.         1.7643309  4.3099575  3.005283   2.2565672\n",
            " 0.         1.1078998  0.7251611  2.5102046  0.         2.3459241\n",
            " 6.1831408  2.6348846  0.         0.         1.096784   1.9825413\n",
            " 1.2393606  1.8104204  0.         0.6015074  0.21953018 0.\n",
            " 0.         1.1894383  0.         0.         0.         0.\n",
            " 0.         1.2687491  1.4535221  0.         0.         0.\n",
            " 0.41791844 3.5734098  2.1049912  0.         1.1804082  0.9871055\n",
            " 1.7997111  0.347059   0.         0.         0.         1.672562\n",
            " 1.9876992  0.         0.39239374 1.8401296  0.05951262 0.\n",
            " 4.938815   0.         2.0083237  0.         0.         0.\n",
            " 0.         2.1418412  0.         0.         0.41441423 1.6208197\n",
            " 0.57018894 0.         2.50295    0.         0.86111057 0.\n",
            " 0.8634818  0.         0.         0.38171142 2.5771933  2.3209288\n",
            " 2.2234197  0.8619579  0.         1.0252879  0.         2.5716095\n",
            " 2.4916658  0.         2.801619   2.019263   0.         1.799845\n",
            " 3.3125308  0.         0.60846776 0.2691517  0.         1.046218\n",
            " 2.2054057  2.29223    2.8047469  2.2594275  2.78717    0.\n",
            " 0.         0.         1.281951   1.8899564 ]\n",
            "\n",
            "Statistical Feature:\n",
            "[1 1 0]\n"
          ]
        }
      ],
      "source": [
        "# show me a semantic feature and a statistical feature\n",
        "print(\"Semantic Feature:\")\n",
        "print(train_semantic_features[0])\n",
        "print(\"\\nStatistical Feature:\")\n",
        "print(train_statistical_features[0])"
      ]
    },
    {
      "cell_type": "code",
      "execution_count": null,
      "metadata": {
        "id": "Oqv2AbvzagMY",
        "outputId": "913e4f6e-8757-4054-c27c-cd2b213ed261"
      },
      "outputs": [
        {
          "name": "stdout",
          "output_type": "stream",
          "text": [
            "Accuracy with only statistical features: 0.8031914893617021\n"
          ]
        }
      ],
      "source": [
        "svm_stat_only = SVC(kernel='rbf', probability=True)\n",
        "svm_stat_only.fit(train_statistical_features, train_labels)\n",
        "predictions_stat_only = svm_stat_only.predict(test_statistical_features)\n",
        "print(\"Accuracy with only statistical features:\", accuracy_score(test_labels, predictions_stat_only))"
      ]
    }
  ],
  "metadata": {
    "kernelspec": {
      "display_name": "ML",
      "language": "python",
      "name": "python3"
    },
    "language_info": {
      "codemirror_mode": {
        "name": "ipython",
        "version": 3
      },
      "file_extension": ".py",
      "mimetype": "text/x-python",
      "name": "python",
      "nbconvert_exporter": "python",
      "pygments_lexer": "ipython3",
      "version": "3.9.17"
    },
    "colab": {
      "provenance": [],
      "collapsed_sections": [
        "gtAiFeRnagMI",
        "m-nKOToCagML",
        "wIm1jVrDagMN",
        "-ZMtAGMRagMR",
        "nYnx_tmfagMR",
        "o-TJXtokagMU",
        "EvSvL8kHagMV",
        "v-wcIMvqagMV",
        "ep02tnuVagMW",
        "5NY6WV3nagMW",
        "5Duii-_OagMY"
      ]
    }
  },
  "nbformat": 4,
  "nbformat_minor": 0
}